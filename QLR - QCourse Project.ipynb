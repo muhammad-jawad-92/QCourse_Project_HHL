{
 "cells": [
  {
   "cell_type": "markdown",
   "metadata": {},
   "source": [
    "<table  align=\"left\" width=\"100%\"> <tr>\n",
    "        <td  style=\"background-color:#ffffff;\"><a href=\"https://qsoftware.lu.lv/index.php/qworld/\" target=\"_blank\"><img src=\"..\\images\\qworld.jpg\" width=\"35%\" align=\"left\"></a></td>\n",
    "        <td  align=\"right\" style=\"background-color:#ffffff;vertical-align:bottom;horizontal-align:right\">\n",
    "            prepared by Muhammad Jawad (<a href=\"https://qworld.net/qpakistan/\" target=\"_blank\">QPakistan</a>)\n",
    "        </td>        \n",
    "</tr></table>"
   ]
  },
  {
   "cell_type": "markdown",
   "metadata": {},
   "source": [
    "<table width=\"100%\"><tr><td style=\"color:#bbbbbb;background-color:#ffffff;font-size:11px;font-style:italic;text-align:right;\">This cell contains some macros. If there is a problem with displaying mathematical formulas, please run this cell to load these macros. </td></tr></table>\n",
    "$\\newcommand{\\Mod}[1]{\\ (\\mathrm{mod}\\ #1)}$\n",
    "$ \\newcommand{\\bra}[1]{\\langle #1|} $\n",
    "$ \\newcommand{\\ket}[1]{|#1\\rangle} $\n",
    "$ \\newcommand{\\braket}[2]{\\langle #1|#2\\rangle} $\n",
    "$ \\newcommand{\\dot}[2]{ #1 \\cdot #2} $\n",
    "$ \\newcommand{\\biginner}[2]{\\left\\langle #1,#2\\right\\rangle} $\n",
    "$ \\newcommand{\\mymatrix}[2]{\\left( \\begin{array}{#1} #2\\end{array} \\right)} $\n",
    "$ \\newcommand{\\myvector}[1]{\\mymatrix{c}{#1}} $\n",
    "$ \\newcommand{\\myrvector}[1]{\\mymatrix{r}{#1}} $\n",
    "$ \\newcommand{\\mypar}[1]{\\left( #1 \\right)} $\n",
    "$ \\newcommand{\\mybigpar}[1]{ \\Big( #1 \\Big)} $\n",
    "$ \\newcommand{\\sqrttwo}{\\frac{1}{\\sqrt{2}}} $\n",
    "$ \\newcommand{\\dsqrttwo}{\\dfrac{1}{\\sqrt{2}}} $\n",
    "$ \\newcommand{\\onehalf}{\\frac{1}{2}} $\n",
    "$ \\newcommand{\\donehalf}{\\dfrac{1}{2}} $\n",
    "$ \\newcommand{\\hadamard}{ \\mymatrix{rr}{ \\sqrttwo & \\sqrttwo \\\\ \\sqrttwo & -\\sqrttwo }} $\n",
    "$ \\newcommand{\\vzero}{\\myvector{1\\\\0}} $\n",
    "$ \\newcommand{\\vone}{\\myvector{0\\\\1}} $\n",
    "$ \\newcommand{\\stateplus}{\\myvector{ \\sqrttwo \\\\  \\sqrttwo } } $\n",
    "$ \\newcommand{\\stateminus}{ \\myrvector{ \\sqrttwo \\\\ -\\sqrttwo } } $\n",
    "$ \\newcommand{\\myarray}[2]{ \\begin{array}{#1}#2\\end{array}} $\n",
    "$ \\newcommand{\\X}{ \\mymatrix{cc}{0 & 1 \\\\ 1 & 0}  } $\n",
    "$ \\newcommand{\\Z}{ \\mymatrix{rr}{1 & 0 \\\\ 0 & -1}  } $\n",
    "$ \\newcommand{\\Htwo}{ \\mymatrix{rrrr}{ \\frac{1}{2} & \\frac{1}{2} & \\frac{1}{2} & \\frac{1}{2} \\\\ \\frac{1}{2} & -\\frac{1}{2} & \\frac{1}{2} & -\\frac{1}{2} \\\\ \\frac{1}{2} & \\frac{1}{2} & -\\frac{1}{2} & -\\frac{1}{2} \\\\ \\frac{1}{2} & -\\frac{1}{2} & -\\frac{1}{2} & \\frac{1}{2} } } $\n",
    "$ \\newcommand{\\CNOT}{ \\mymatrix{cccc}{1 & 0 & 0 & 0 \\\\ 0 & 1 & 0 & 0 \\\\ 0 & 0 & 0 & 1 \\\\ 0 & 0 & 1 & 0} } $\n",
    "$ \\newcommand{\\norm}[1]{ \\left\\lVert #1 \\right\\rVert } $\n",
    "$ \\newcommand{\\pstate}[1]{ \\lceil \\mspace{-1mu} #1 \\mspace{-1.5mu} \\rfloor } $"
   ]
  },
  {
   "cell_type": "markdown",
   "metadata": {},
   "source": [
    "# Linear Regression"
   ]
  },
  {
   "cell_type": "markdown",
   "metadata": {},
   "source": [
    "The Linear Regression problem is one of the most common problems in the Machine Learning world.\n",
    "\n",
    "Machine Learning techniques can be categorized into a few different learning techniques, one of which is Supervised Learning. In Supervised Learning, we take labelled dataset, gleen information from it, and then label new dataset based on the learning.\n",
    "\n",
    "Linear Regression falls into Supervised Learning. Here, we fit the best linear line between the independent and dependent variables. As the dimension of dataset increases, we move from fitting a line to a hyper-plane. It helps establishing relationship between dependent and independent variables.\n",
    "\n",
    "Say, we have X as independent variable and Y as dependent. And we have generated a scatter plot as in the picture below. We choose a line that minmizes the error between every pair of actual $Y$ value and the predicted $\\hat{Y}$ value.\n",
    "\n",
    "<img src=\"https://www.jmp.com/en_hk/statistics-knowledge-portal/what-is-multiple-regression/fitting-multiple-regression-model/_jcr_content/par/styledcontainer_2069/par/lightbox_4130/lightboxImage.img.png/1548704005203.png\">\n"
   ]
  },
  {
   "cell_type": "markdown",
   "metadata": {},
   "source": [
    "<h4>Formulation of Linear Regression Problem</h4>"
   ]
  },
  {
   "cell_type": "markdown",
   "metadata": {},
   "source": [
    "The simplest linear model for regression is one that involves a linear combination of the input variables, with some irreducible error component $e^{(i)}$ for $i^{th}$ training example:\n",
    "$$\n",
    "y_{i}(x, w) = w_{0} + w_{1}x_{1}^{(i)} + w_{2}x_{2}^{(i)} + ... + w_{n}x_{n}^{(i)} + e^{(i)}\n",
    "$$\n",
    "\n",
    "where $x_{1}^{(i)}, ..., x_{n}^{(i)} \\in \\mathbb{R}$ are the features for $i^{th}$ training example. To confine our dependent variable into a product of matrices, we can let $x_{0}$ to be containing $1s$ only. Whence, we can write:\n",
    "\n",
    "$$\n",
    "y_{i}(x, w) = \\begin{bmatrix}\n",
    "    w_{0} & w_{1} & \\cdots & w_{n}  \n",
    " \\end{bmatrix} \\begin{bmatrix}\n",
    "    x_{0}^{(i)} \\\\ x_{1}^{(i)} \\\\ \\vdots \\\\ x_{n}^{(i)}  \n",
    " \\end{bmatrix} + e^{(i)} = \\textbf{w}^{T}\\textbf{x}_{i} + e^{(i)}\n",
    "$$\n",
    "\n",
    "The error $e^{(i)}$ is irreducible and has no correlation with the input features, so it cannot be learned. It is assumed to follow a normal distribution with zero mean and some finite standard deviation, i.e. $e^{(i)} \\sim N(0, \\sigma^{2})$.\n",
    "\n",
    "So, our prediction will be $\\hat{y}_{i} = \\mathbb{E}[y_{i}(x, w)] = \\textbf{w}^{T}\\textbf{x}_{i}$.\n",
    "\n",
    "We can combine all the $m$ training examples and design matrix $X = \\begin{bmatrix}\n",
    "    \\textbf{x}_{1}^{T} \\\\ \\textbf{x}_{2}^{T} \\\\ \\vdots \\\\ \\textbf{x}_{m}^{T} \n",
    " \\end{bmatrix} \\in \\mathbb{R}^{m \\times (n+1)}$.\n",
    " \n",
    "In similar fashion we can stack up $y_{i}$ and $\\hat{y}_{i}$ values for all training examples to get $Y, \\hat{Y} \\in \\mathbb{R}^{m}$\n",
    " \n",
    "So, $\\hat{Y} = X\\textbf{w}$, where $\\textbf{w} \\in \\mathbb{R}^{n+1}$ and hence $e \\in \\mathbb{R}^{m}$ for all $m$ training examples can be defined as: $\\textbf{e} = Y - \\hat{Y} = Y - X\\textbf{w}$."
   ]
  },
  {
   "cell_type": "markdown",
   "metadata": {},
   "source": [
    "Using method of least squares we can minimize the error:\n",
    "$$\n",
    "L(\\textbf{w}) = \\frac{1}{m}\\sum_{i=1}^{m} (y_{i} - \\hat{y}_{i})^{2} = \\frac{1}{m}\\sum_{i=1}^{m} e_{i}^{2} = \\frac{1}{m}\\lVert \\textbf{e} \\rVert ^{2}\n",
    "$$\n",
    "\n",
    "We know that $\\lVert \\textbf{e} \\rVert ^{2} = \\textbf{e}^{T}\\textbf{e}$.\n",
    "\n",
    "So, we now get:\n",
    "$$\n",
    "L(\\textbf{w}) = \\frac{1}{m}\\textbf{e}^{T}\\textbf{e} = \\frac{1}{m}(Y - X\\textbf{w})^{T}(Y - X\\textbf{w})\n",
    "$$\n",
    "\n",
    "Next, we find the gradient vector of $L(\\textbf{w})$, and set it to 0:\n",
    "$$\n",
    "\\nabla_{\\textbf{w}} = -\\frac{2}{m}X^{T}(Y - X\\textbf{w}) = 0\n",
    "$$\n",
    "\n",
    "$$\n",
    "X^{T}X\\textbf{w} = X^{T}Y\n",
    "$$\n",
    "\n",
    "The above equation that we have reached is the normal equation and can help us find parameters $\\textbf{w}$ analytically.\n",
    "\n",
    "So, for $\\textbf{w}$ we just need to solve the following:\n",
    "$$\n",
    "\\textbf{w} = (X^{T}X)^{-1}X^{T}Y\n",
    "$$"
   ]
  },
  {
   "cell_type": "code",
   "execution_count": null,
   "metadata": {},
   "outputs": [],
   "source": []
  },
  {
   "cell_type": "markdown",
   "metadata": {},
   "source": [
    "# HHL Algorithm"
   ]
  },
  {
   "cell_type": "markdown",
   "metadata": {},
   "source": [
    "The Harrow-Hassidim-Lloyd (HHL) algorithm will help us find a solution to a set of linear equations using quantum power."
   ]
  },
  {
   "cell_type": "markdown",
   "metadata": {},
   "source": [
    "A system of linear equation is written as $Ax = b$, which can be solved by finding the inverse of $A$ given its existence."
   ]
  },
  {
   "cell_type": "markdown",
   "metadata": {},
   "source": [
    "<h3> High level overview of the HHL </h3>"
   ]
  },
  {
   "cell_type": "markdown",
   "metadata": {},
   "source": [
    "<h4>Some assumptions and axioms:</h4>\n",
    "\n",
    "Suppose we have translated our problem $Ax = b$ into quantum problem, and we now have a problem defined $A|x\\rangle=|b\\rangle$.\n",
    "\n",
    "Following are the dimensions: $A\\in\\mathbb{C}^{N\\times N}$ and $|x\\rangle, |b\\rangle\\in\\mathbb{C}^{N}$."
   ]
  },
  {
   "cell_type": "markdown",
   "metadata": {},
   "source": [
    "$A$ needs to be a Hermitian matrix, so that we can convert it to unitary operator. Recall that a Hermitian matrix is when $A = A^{\\dagger}$ (the conjugate transpose of $A$). Even if A is not Hermitian, we can define a Hermitian operator using $A$: \n",
    "\n",
    "$$ A := \\begin{bmatrix}\n",
    "0 & A^{\\dagger}\\\\\n",
    "A & 0\n",
    "\\end{bmatrix} $$"
   ]
  },
  {
   "cell_type": "markdown",
   "metadata": {},
   "source": [
    "For Hermitian matrices, we can have a spectral decomposition. So we can write A as:\n",
    "$$A=\\sum_{j=0}^{N-1}\\lambda_{j}|u_{j}\\rangle\\langle u_{j}|,\\quad \\lambda_{j}\\in\\mathbb{ R }$$\n",
    "where $\\lambda_{j}$ and $|u_{j}\\rangle$ are $j^{th}$ eigenvalue and eigenstate pair of the Hermitian $A$."
   ]
  },
  {
   "cell_type": "markdown",
   "metadata": {},
   "source": [
    "With this spectral decomposition of A, we can deduce $A^{-1}$ as:\n",
    "$$A^{-1}=\\sum_{j=0}^{N-1}\\lambda_{j}^{-1}|u_{j}\\rangle\\langle u_{j}|,\\quad \\lambda_{j}\\in\\mathbb{ R }\\setminus\\{0\\}$$"
   ]
  },
  {
   "cell_type": "markdown",
   "metadata": {},
   "source": [
    "Since the eigenvectors of $A$ form an orthonormal basis, we can write $|b\\rangle$ in terms of them:\n",
    "$$|b\\rangle=\\sum_{i=0}^{N-1}b_{i}|u_{i}\\rangle,\\quad b_{i}\\in\\mathbb{ C }$$"
   ]
  },
  {
   "cell_type": "markdown",
   "metadata": {},
   "source": [
    "With the results we achieved from spectral decomposition, we can write our problem as:\n",
    "$$\n",
    "|x\\rangle = A^{-1}|b\\rangle = \\sum_{j=0}^{N-1}\\lambda_{j}^{-1}|u_{j}\\rangle\\langle u_{j}|\\sum_{i=0}^{N-1}b_{i}|u_{i}\\rangle\n",
    "$$\n",
    "\n",
    "$$\n",
    "= (\\lambda_{0}^{-1}|u_{0}\\rangle\\langle u_{0}| + \\lambda_{1}^{-1}|u_{1}\\rangle\\langle u_{1}| + ... + \\lambda_{N-1}^{-1}|u_{N-1}\\rangle\\langle u_{N-1}|) (b_{0}|u_{0}\\rangle + b_{1}|u_{1}\\rangle + ... + b_{N-1}|u_{N-1}\\rangle)\n",
    "$$\n",
    "\n",
    "$$\n",
    "= \\sum_{j=0}^{N-1}\\sum_{i=0}^{N-1}\\lambda_{j}^{-1}b_{i}|u_{j}\\rangle\\langle u_{j}||u_{i}\\rangle\n",
    "$$\n",
    "\n",
    "We know that $\\langle u_{j}||u_{i}\\rangle = 1$ when $j = i$, and $\\langle u_{j}||u_{i}\\rangle = 0$ otherwise. Thus the above expression simplifies to:\n",
    "\n",
    "$$\n",
    "|x\\rangle = \\sum_{j=0}^{N-1}\\lambda_{j}^{-1}b_{j}|u_{j}\\rangle\n",
    "$$"
   ]
  },
  {
   "cell_type": "markdown",
   "metadata": {},
   "source": [
    "We can then apply quantum phase estimation using $U = e ^ {-i A t}$ as an unitary operator on state $|b\\rangle$ to convert eigenstates from $|u_{j}\\rangle$ to $\\lambda_{j}|u_{j}\\rangle$."
   ]
  },
  {
   "cell_type": "markdown",
   "metadata": {},
   "source": [
    "Then, we can invert the eigenvalues through controlled rotation, so that we can convert eigenstates from $\\lambda_{j}|u_{j}\\rangle$ to $\\lambda_{j}^{-1}|u_{j}\\rangle$"
   ]
  },
  {
   "cell_type": "markdown",
   "metadata": {},
   "source": [
    "<h3> Lets dive deep into HHL with implementation </h3>"
   ]
  },
  {
   "cell_type": "markdown",
   "metadata": {},
   "source": [
    "<h4>We will need 3 registers:</h4>\n",
    "<ol>\n",
    "<li> The ancilla register (anc), containing single qubit initialized to state $|0\\rangle$. These will help in intermediate computations. After computations, these will be re-initialized to state $|0\\rangle$ and will be ignored from the description.</li>\n",
    "<li> The second one (B) will be used to hold eigenvalues from the quantum phase estimation applied on state $|b\\rangle$. We will initialize it to state $|0\\rangle$. From the QPE lecture, we know that this register will have varying number of qubits depending on the level of accuracy we want to achieve in measuring eigenvalues.</li>\n",
    "<li> The third one will contain the value of state $|b\\rangle$. </li>\n",
    "</ol>"
   ]
  },
  {
   "cell_type": "markdown",
   "metadata": {},
   "source": [
    "So our initial state will be:\n",
    "$$\n",
    "|\\psi\\rangle = |b\\rangle\\otimes|0\\rangle_{B}\\otimes|0\\rangle_{anc}\n",
    "$$"
   ]
  },
  {
   "cell_type": "code",
   "execution_count": 236,
   "metadata": {},
   "outputs": [],
   "source": [
    "import cirq\n",
    "import math\n",
    "import numpy as np"
   ]
  },
  {
   "cell_type": "code",
   "execution_count": 237,
   "metadata": {},
   "outputs": [],
   "source": [
    "A = np.array([[4.30213466 - 6.01593490e-08j,\n",
    "0.23531802 + 9.34386156e-01j],\n",
    "[0.23531882 - 9.34388383e-01j,\n",
    "0.58386534 + 6.01593489e-08j]])\n",
    "\n",
    "initial_state_transforms = [cirq.rx(1.276359), cirq.rz(1.276359)]\n",
    "\n",
    "b_num = int(np.log2(A.shape[0])) #number of qubits required to store b\n",
    "qpe_register_size = 4"
   ]
  },
  {
   "cell_type": "code",
   "execution_count": 238,
   "metadata": {},
   "outputs": [],
   "source": [
    "circuit = cirq.Circuit()\n",
    "\n",
    "ancilla = cirq.LineQubit(0)\n",
    "#control register in QPE\n",
    "qpe_register = [cirq.LineQubit(i) for i in range(1,qpe_register_size + 1)] #4 qubits for quantum phase estimation\n",
    "\n",
    "if b_num == 1:\n",
    "    #target register in QPE\n",
    "    initial_state = [cirq.LineQubit(qpe_register_size + 1)]\n",
    "else:\n",
    "    initial_state = [cirq.LineQubit(i) for i in range(qpe_register_size + 1, qpe_register_size + 1 + b_num)]"
   ]
  },
  {
   "cell_type": "markdown",
   "metadata": {},
   "source": [
    "<h4>Next we will perform Quantum Phase Estimation</h4>\n",
    "\n",
    "First we will apply Hadamard gates on the register $B$ to get them into a superposition.\n",
    "\n",
    "$$\n",
    "{\\large |\\psi\\rangle = I|b\\rangle\\otimes H^{\\otimes x} \\otimes I |0\\rangle_{anc}\n",
    "= |b\\rangle\\otimes\\frac{1}{2^{\\frac{x}{2}}}(|0\\rangle + |1\\rangle)^{\\otimes x} |0\\rangle}\n",
    "$$\n",
    "where $x$ is the number of qubits dedicated to quantum phase estimation.\n",
    "\n",
    "Then we will apply controlled rotation to $|b\\rangle$ with register $B$ as the control qubits using $U = e^{-iAt}$, where $A$ is our Hermitian operator. For simplicity, we also assume that $|b\\rangle$ is an eigenvector of $U$ with eigenvalue $e^{2\\pi i\\phi}$. Then we will get the following state:\n",
    "\n",
    "$$\n",
    "|\\psi\\rangle = |b\\rangle \\otimes ( \\frac{1}{2^{\\frac{x}{2}}} ( |0\\rangle + e^{2\\pi i\\phi 2^{x-1}}|1\\rangle ) \\otimes ( |0\\rangle + e^{2\\pi i\\phi 2^{x-2}}|1\\rangle ) \\otimes ... \\otimes ( |0\\rangle + e^{2\\pi i\\phi 2^{0}}|1\\rangle )) \\otimes |0\\rangle_{anc}\n",
    "$$\n",
    "\n",
    "$$\n",
    "= |b\\rangle \\frac{1}{2^{\\frac{x}{2}}} \\sum_{j=0}^{2^{x} - 1} e^{2\\pi i \\phi j}|j\\rangle |0\\rangle_{anc}\n",
    "$$\n",
    "\n",
    "Then, as another step, we'll apply Inverse Quantum Fourier Transform to our register $B$.\n",
    "\n",
    "$$\n",
    "|\\psi\\rangle = |b\\rangle IQFT(\\frac{1}{2^{\\frac{x}{2}}} \\sum_{j=0}^{2^{x} - 1} e^{2\\pi i \\phi j}|j\\rangle) |0\\rangle_{anc}\n",
    "$$\n",
    "\n",
    "$$\n",
    "= |b\\rangle |N_{x}\\phi\\rangle |0\\rangle_{anc}, N_{x} = 2^{x}\n",
    "$$\n",
    "\n",
    "So, if $|b\\rangle = |u_{j}\\rangle$ then using Hamiltonian encoding we can write:\n",
    "\n",
    "$$\n",
    "U|b\\rangle = e^{i \\lambda_{j} t}|u_{j}\\rangle\n",
    "$$\n",
    "\n",
    "Then by equating $i \\lambda_{j} t$ and $2\\pi i \\phi$, we get $\\phi = \\lambda_{j} t / 2\\pi$ and substitute it to the state we have:\n",
    "\n",
    "$$\n",
    "|\\psi\\rangle = \\sum_{j=0}^{N-1}b_{j}|u_{j}\\rangle |N_{x}\\lambda_{j} t / 2\\pi\\rangle |0\\rangle_{anc}\n",
    "$$\n",
    "\n",
    "where $N = 2^{n}$, and $n$ is the number of qubits in the register containing $b$."
   ]
  },
  {
   "cell_type": "markdown",
   "metadata": {},
   "source": [
    "Since, in QPE, we will have to use $U = e^{-iAt}$ as our unitary gate. For this, we will have to understand Hamiltonian simulation:\n",
    "\n",
    "In the Hamiltonian simulation problem, given a Hamiltonian matrix $A$ ($2^{n}\\times2^{n}$ acting on $n$ qubits), a time $t$ and a maximum simulation error $\\epsilon$, the goal is to find an algorithm that approximates $U$ such that $||U - e^{-iAt}|| \\leq \\epsilon$ - Wikipedia/Hamiltonian Simulaton.\n",
    "\n",
    "So we will use the following class for Hamiltonian Simulation."
   ]
  },
  {
   "cell_type": "code",
   "execution_count": 239,
   "metadata": {},
   "outputs": [],
   "source": [
    "\"\"\"\n",
    "Following class has been taken from the book:\n",
    "Quantum Machine Learning with Python using Cirq and IBM Qiskit - Santanu Pattanayak\n",
    "\"\"\"\n",
    "\n",
    "class HamiltonianSimulation(cirq.EigenGate, cirq.SingleQubitGate):\n",
    "    \"\"\"\n",
    "    This class simulates the Hamiltonian evolution for\n",
    "    a Single qubit. For a Hamiltonian given by H the\n",
    "    Unitary Operator simulated for time t is\n",
    "    given by e**(-iHt). An Eigenvalue of lambda for the\n",
    "    Hamiltonian H corresponds to the\n",
    "    Eigenvalue of e**(-i*lambda*t).\n",
    "    The EigenGate takes in an Eigenvalue of the\n",
    "    form e**(i*pi*theta) as theta and the corresponding Eigenvector\n",
    "    as |v><v|\n",
    "    \"\"\"\n",
    "    def __init__(self, _H_, t, exponent=1.0):\n",
    "        cirq.SingleQubitGate.__init__(self)\n",
    "        cirq.EigenGate.__init__(self, exponent=exponent)\n",
    "        self._H_ = _H_\n",
    "        self.t = t\n",
    "        eigen_vals, eigen_vecs = np.linalg.eigh(self._H_)\n",
    "        self.eigen_components = []\n",
    "        for _lambda_, vec in zip(eigen_vals, eigen_vecs.T):\n",
    "            theta = -_lambda_*t / np.pi\n",
    "            _proj_ = np.outer(vec, np.conj(vec))\n",
    "            self.eigen_components.append((theta, _proj_))\n",
    "    \n",
    "    def _with_exponent(self, exponent):\n",
    "        return HamiltonianSimulation(self._H_, self.t, exponent)\n",
    "    \n",
    "    def _eigen_components(self):\n",
    "        return self.eigen_components"
   ]
  },
  {
   "cell_type": "markdown",
   "metadata": {},
   "source": [
    "We are now able to define our unitary operator"
   ]
  },
  {
   "cell_type": "code",
   "execution_count": 240,
   "metadata": {},
   "outputs": [],
   "source": [
    "#Lets set t (time)\n",
    "t = 0.358166 * np.pi\n",
    "\n",
    "U = HamiltonianSimulation(_H_= A, t=t)"
   ]
  },
  {
   "cell_type": "code",
   "execution_count": 241,
   "metadata": {},
   "outputs": [
    {
     "data": {
      "text/plain": [
       "[(-0.124999738894924,\n",
       "  array([[ 0.05608066+0.j        , -0.05618882-0.22311083j],\n",
       "         [-0.05618882+0.22311083j,  0.94391934+0.j        ]])),\n",
       " (-1.624999337105076,\n",
       "  array([[0.94391934+0.j        , 0.05618882+0.22311083j],\n",
       "         [0.05618882-0.22311083j, 0.05608066+0.j        ]]))]"
      ]
     },
     "execution_count": 241,
     "metadata": {},
     "output_type": "execute_result"
    }
   ],
   "source": [
    "U._eigen_components()"
   ]
  },
  {
   "cell_type": "code",
   "execution_count": 242,
   "metadata": {},
   "outputs": [],
   "source": [
    "#preparing our initial state in the register that is supposed to contain b\n",
    "for op in list(initial_state_transforms):\n",
    "    circuit.append(op(initial_state[0]))"
   ]
  },
  {
   "cell_type": "markdown",
   "metadata": {},
   "source": [
    "We are now ready to apply Quantum Phase Estimation in the way we discussed."
   ]
  },
  {
   "cell_type": "code",
   "execution_count": 243,
   "metadata": {},
   "outputs": [],
   "source": [
    "def CU_decomposition(num_qubits, num_input_qubits, U, qubits):\n",
    "    input_state_qubit = qubits[:num_input_qubits]\n",
    "    control_qubits = qubits[num_input_qubits:]\n",
    "    num_control_qubits = num_qubits - num_input_qubits\n",
    "    \n",
    "    for i,q in enumerate(control_qubits):\n",
    "        power =2**(num_control_qubits - i - 1)\n",
    "        gate = U **power\n",
    "        \n",
    "        yield cirq.ControlledGate(gate)(q, *input_state_qubit)"
   ]
  },
  {
   "cell_type": "code",
   "execution_count": 244,
   "metadata": {},
   "outputs": [],
   "source": [
    "from cirq.circuits import InsertStrategy\n",
    "from cirq import X, H, SWAP, CZPowGate\n",
    "\n",
    "#Reference: QSilver notebook: Phase Estimation\n",
    "def iqft(n,qubits,circuit):\n",
    "    \n",
    "    #Swap the qubits\n",
    "    for i in range(n//2):\n",
    "        circuit.append(SWAP(qubits[i],qubits[n-i-1]), strategy = InsertStrategy.NEW)\n",
    "     \n",
    "    #For each qubit\n",
    "    for i in range(n-1,-1,-1):\n",
    "        #Apply CR_k gates where j is the control and i is the target\n",
    "        k=n-i #We start with k=n-i\n",
    "        for j in range(n-1,i,-1):\n",
    "            #Define and apply CR_k gate\n",
    "            crk = CZPowGate(exponent = -2/2**(k))\n",
    "            circuit.append(crk(qubits[j],qubits[i]),strategy = InsertStrategy.NEW)\n",
    "            k=k-1 #Decrement at each step\n",
    "            \n",
    "        #Apply Hadamard to the qubit\n",
    "        circuit.append(H(qubits[i]),strategy = InsertStrategy.NEW)\n"
   ]
  },
  {
   "cell_type": "code",
   "execution_count": 245,
   "metadata": {},
   "outputs": [],
   "source": [
    "#Reference: QSilver notebook: Phase Estimation\n",
    "def qpe(t,control, target, circuit, CU):\n",
    "    \n",
    "    #Apply Hadamard to control qubits\n",
    "    circuit.append(cirq.H.on_each(control))\n",
    "    \n",
    "#     #Apply CU gates\n",
    "#     for i in range(t):\n",
    "#         #Obtain the power of CU gate \n",
    "#         CUi = CU**(2**i)\n",
    "#         #Apply CUi gate where t-i-1 is the control\n",
    "#         circuit.append(CUi(control[t-i-1],*target))\n",
    "        \n",
    "#         ################# circuit.append(CUi(control[t-i-1],*target)) decomposition\n",
    "        \n",
    "        \n",
    "#         #################\n",
    "    qubits = list(target + control)\n",
    "    \n",
    "#     circuit.append(ControlledUnitary(qpe_register_size + b_num, b_num, CU)(*qubits))\n",
    "    \n",
    "    circuit.append(CU_decomposition(qpe_register_size + b_num, b_num, CU, qubits))\n",
    "    #Apply inverse QFT\n",
    "    iqft(t,control,circuit)"
   ]
  },
  {
   "cell_type": "code",
   "execution_count": 246,
   "metadata": {},
   "outputs": [],
   "source": [
    "#Applying QPE to our circuit\n",
    "\n",
    "qpe(qpe_register_size, qpe_register, initial_state, circuit, U)"
   ]
  },
  {
   "cell_type": "code",
   "execution_count": 247,
   "metadata": {
    "scrolled": false
   },
   "outputs": [
    {
     "data": {
      "text/html": [
       "<pre style=\"overflow: auto; white-space: pre;\">1: ───H─────────────────────────C&lt;__main__.HamiltonianSimulation object at 0x0000023AD406C5E0&gt;──────────────────────────────────────────────────────────────────────────────────────────────────────────────────────────────────────────────────────────────────────────────────────────────────────×───────────────────────────────────────────────@──────────@─────────@────────H───\n",
       "                                │                                                                                                                                                                                                                                                                   │                                               │          │         │\n",
       "2: ───H─────────────────────────┼────────────────────────────────────────────────────────────────C&lt;__main__.HamiltonianSimulation object at 0x0000023AD406CCA0&gt;─────────────────────────────────────────────────────────────────────────────────────────────────────────────────────────────────────┼───×────────────────────@─────────@────────H───┼──────────┼─────────@^-0.5───────\n",
       "                                │                                                                │                                                                                                                                                                                                  │   │                    │         │            │          │\n",
       "3: ───H─────────────────────────┼────────────────────────────────────────────────────────────────┼────────────────────────────────────────────────────────────────C&lt;__main__.HamiltonianSimulation object at 0x0000023AD406C7F0&gt;────────────────────────────────────────────────────────────────────┼───×───────@────────H───┼─────────@^-0.5───────┼──────────@^-0.25────────────────\n",
       "                                │                                                                │                                                                │                                                                                                                                 │           │            │                      │\n",
       "4: ───H─────────────────────────┼────────────────────────────────────────────────────────────────┼────────────────────────────────────────────────────────────────┼────────────────────────────────────────────────────────────────C&lt;__main__.HamiltonianSimulation object at 0x0000023AD406C8B0&gt;───×───────H───@^-0.5───────@^-0.25────────────────@^(-1/8)──────────────────────────\n",
       "                                │                                                                │                                                                │                                                                │\n",
       "5: ───Rx(0.406π)───Rz(0.406π)───#2───────────────────────────────────────────────────────────────#2───────────────────────────────────────────────────────────────#2───────────────────────────────────────────────────────────────#2─────────────────────────────────────────────────────────────────────────────────────────────────────────────────────────────────────────────────</pre>"
      ],
      "text/plain": [
       "1: ───H─────────────────────────C<__main__.HamiltonianSimulation object at 0x0000023AD406C5E0>──────────────────────────────────────────────────────────────────────────────────────────────────────────────────────────────────────────────────────────────────────────────────────────────────────×───────────────────────────────────────────────@──────────@─────────@────────H───\n",
       "                                │                                                                                                                                                                                                                                                                   │                                               │          │         │\n",
       "2: ───H─────────────────────────┼────────────────────────────────────────────────────────────────C<__main__.HamiltonianSimulation object at 0x0000023AD406CCA0>─────────────────────────────────────────────────────────────────────────────────────────────────────────────────────────────────────┼───×────────────────────@─────────@────────H───┼──────────┼─────────@^-0.5───────\n",
       "                                │                                                                │                                                                                                                                                                                                  │   │                    │         │            │          │\n",
       "3: ───H─────────────────────────┼────────────────────────────────────────────────────────────────┼────────────────────────────────────────────────────────────────C<__main__.HamiltonianSimulation object at 0x0000023AD406C7F0>────────────────────────────────────────────────────────────────────┼───×───────@────────H───┼─────────@^-0.5───────┼──────────@^-0.25────────────────\n",
       "                                │                                                                │                                                                │                                                                                                                                 │           │            │                      │\n",
       "4: ───H─────────────────────────┼────────────────────────────────────────────────────────────────┼────────────────────────────────────────────────────────────────┼────────────────────────────────────────────────────────────────C<__main__.HamiltonianSimulation object at 0x0000023AD406C8B0>───×───────H───@^-0.5───────@^-0.25────────────────@^(-1/8)──────────────────────────\n",
       "                                │                                                                │                                                                │                                                                │\n",
       "5: ───Rx(0.406π)───Rz(0.406π)───#2───────────────────────────────────────────────────────────────#2───────────────────────────────────────────────────────────────#2───────────────────────────────────────────────────────────────#2─────────────────────────────────────────────────────────────────────────────────────────────────────────────────────────────────────────────────"
      ]
     },
     "execution_count": 247,
     "metadata": {},
     "output_type": "execute_result"
    }
   ],
   "source": [
    "circuit"
   ]
  },
  {
   "cell_type": "markdown",
   "metadata": {},
   "source": [
    "<h4>Next we will invert the eigenvalues</h4>\n",
    "\n",
    "From the high-level description of HHL, we know that after QPE we have eigenstates in the form $\\lambda_{j}|u_{j}\\rangle$. So, we need to convert eigenstates into the form $\\lambda_{j}^{-1}|u_{j}\\rangle$, since it is closer to the solution as $A^{-1}$ has a spectral decomposition given by:\n",
    "\n",
    "$$\n",
    "A^{-1}=\\sum_{j=0}^{N-1}\\frac{1}{\\lambda_{j}}|u_{j}\\rangle\\langle u_{j}|,\\quad \\lambda_{j}\\in\\mathbb{ R }\\setminus\\{0\\}\n",
    "$$\n",
    "\n",
    "So, this can be achieved by rotating the ancilla qubit $|0\\rangle_{anc}$ around the y-axis based on the encoded eigenvalues in our register $B$.\n",
    "\n",
    "The angle of rotation for each eigenvector $|u_{j}\\rangle$ is:\n",
    "$$\n",
    "\\theta_{j} = 2\\arcsin \\frac{C}{\\lambda_{j}}\n",
    "$$\n",
    "\n",
    "where $C$ is just another constant. A good practice is to let $C$:\n",
    "$$\n",
    "C = \\frac{2\\pi}{2^{x}t}\n",
    "$$\n",
    "\n",
    "where $x$ is the number of qubits in register $B$ (for quantum phase estimation), and $t$ is the time set for Hamiltonian simulation.\n",
    "\n",
    "So, for every eigenvector $|u_{j}\\rangle$, we have a corresponding rotational operator:\n",
    "\n",
    "$$\n",
    "{\\large R_{y}(\\theta_{j}) = e^{-\\frac{iY\\theta_{j}}{2}}}\n",
    "$$\n",
    "\n",
    "where $Y$ is the Pauli matrix.\n",
    "\n",
    "From QSliver's notebook \"Quantum operators with complex numbers\", we know that $Y$ is an idempotent matrix, i.e. $YY^{\\dagger} = I$. So, $R_{y}(\\theta_{j})$ can be written as:\n",
    "\n",
    "$$\n",
    "R_y(\\theta_{j}) = cos\\left(\\dfrac{\\theta_{j}}{2}\\right)I - isin\\left(\\dfrac{\\theta_{j}}{2}\\right)Y = \\mymatrix{ll}{cos\\left(\\dfrac{\\theta_{j}}{2}\\right)&-sin\\left(\\dfrac{\\theta_{j}}{2}\\right)\\\\sin\\left(\\dfrac{\\theta_{j}}{2}\\right)&cos\\left(\\dfrac{\\theta_{j}}{2}\\right)}\n",
    "$$\n",
    "\n",
    "Therefore, applying the operator above to ancilla qubit $|0\\rangle_{anc}$ gives:\n",
    "\n",
    "$$\n",
    "R_y(\\theta_{j})|0\\rangle_{anc} = \\cos(\\frac{\\theta_{j}}{2})|0\\rangle_{anc} + \\sin(\\frac{\\theta_{j}}{2})|1\\rangle_{anc}\n",
    "$$\n",
    "\n",
    "By our description of $\\theta_{j}$:\n",
    "\n",
    "$$\n",
    "R_y(\\theta_{j})|0\\rangle_{anc} = \\sqrt{1 - \\frac{C^{2}}{\\lambda_{j}}}|0\\rangle_{anc} + \\frac{C}{\\lambda_{j}}|1\\rangle_{anc}\n",
    "$$\n",
    "\n",
    "So, after controlled rotation our state will be:\n",
    "\n",
    "$$\n",
    "|\\psi\\rangle = \\sum_{j=0}^{N-1}b_{j}|u_{j}\\rangle |N_{x}\\lambda_{j} t / 2\\pi\\rangle (\\sqrt{1 - \\frac{C^{2}}{\\lambda_{j}}}|0\\rangle_{anc} + \\frac{C}{\\lambda_{j}}|1\\rangle_{anc})\n",
    "$$"
   ]
  },
  {
   "cell_type": "code",
   "execution_count": 248,
   "metadata": {},
   "outputs": [],
   "source": [
    "\"\"\"\n",
    "Following class has been taken from the book:\n",
    "Quantum Machine Learning with Python using Cirq and IBM Qiskit - Santanu Pattanayak\n",
    "\"\"\"\n",
    "#Inherits a parent class: cirq.Gate\n",
    "class EigenValueInversion(cirq.Gate):\n",
    "    \"\"\"\n",
    "    Rotates the ancilla bit around the Y axis\n",
    "    by an angle theta = 2* sin inv(C/eigen value)\n",
    "    corresponding to each Eigen value state basis |eigen value>.\n",
    "    This rotation brings the factor (1/eigen value) in\n",
    "    the amplitude of the basis |1> of the ancilla qubit\n",
    "    \"\"\"\n",
    "    def __init__(self, num_qubits, C, t):\n",
    "        super(EigenValueInversion, self)\n",
    "        self._num_qubits = num_qubits\n",
    "        self.C = C\n",
    "        self.t = t\n",
    "        # No of possible Eigen values\n",
    "        self.N = 2**(num_qubits-1)\n",
    "        \n",
    "    def num_qubits(self): #overriden method\n",
    "        return self._num_qubits\n",
    "    \n",
    "    def _decompose_(self, qubits):\n",
    "        \"\"\"\n",
    "        Apply the Rotation Gate for each possible Eigen value corresponding to the Eigenvalue basis state. \n",
    "        For each input basis state only the Rotation gate corresponding to it would be applied to the ancilla qubit\n",
    "        \"\"\"\n",
    "        base_state = 2**self.N - 1\n",
    "        \n",
    "        for eig_val_state in range(self.N):\n",
    "            eig_val_gate = self._ancilla_rotation(eig_val_state) #creating rotation gate based on the possible eigenvalue state.\n",
    "            if (eig_val_state != 0):\n",
    "                base_state = eig_val_state - 1\n",
    "        # XOR between successive eigen value states to determine the qubits to flip\n",
    "            qubits_to_flip = eig_val_state ^ base_state\n",
    "        # Apply the flips to the qubits as determined by the XOR operation\n",
    "            for q in qubits[-2::-1]:\n",
    "                if qubits_to_flip % 2 == 1:\n",
    "                    yield cirq.X(q)\n",
    "                qubits_to_flip >>= 1\n",
    "        # Build controlled ancilla rotation\n",
    "                eig_val_gate = cirq.ControlledGate(eig_val_gate)\n",
    "        # Controlled Rotation Gate with the 1st (num_qubits -1) qubits as control qubit and the last qubit as the target qubit(ancilla)\n",
    "            yield eig_val_gate(*qubits)\n",
    "            \n",
    "    def _ancilla_rotation(self, eig_val_state):\n",
    "        if eig_val_state == 0:\n",
    "            eig_val_state = self.N\n",
    "            theta = 2*math.asin(self.C * self.N * self.t / (2*np.pi * eig_val_state))\n",
    "            # Rotation around the y axis by angle theta\n",
    "            return cirq.ry(theta)"
   ]
  },
  {
   "cell_type": "code",
   "execution_count": 249,
   "metadata": {},
   "outputs": [],
   "source": [
    "C = 2*np.pi / (2**qpe_register_size * t)"
   ]
  },
  {
   "cell_type": "code",
   "execution_count": 250,
   "metadata": {},
   "outputs": [],
   "source": [
    "eig_val_inv = EigenValueInversion(num_qubits=qpe_register_size + 1, C=C, t=t)\n",
    "circuit.append(eig_val_inv(*(qpe_register + [ancilla])))"
   ]
  },
  {
   "cell_type": "code",
   "execution_count": 251,
   "metadata": {},
   "outputs": [
    {
     "data": {
      "text/html": [
       "<pre style=\"overflow: auto; white-space: pre;\">0: ───────────────────────────────────────────────────────────────────────────────────────────────────────────────────────────────────────────────────────────────────────────────────────────────────────────────────────────────────────────────────────────────────────────────────────────────────────────────────────────────────────────────────────────────────────────────────#5────────────────────────────────────────────────────────────\n",
       "                                                                                                                                                                                                                                                                                                                                                                                      │\n",
       "1: ───H─────────────────────────C&lt;__main__.HamiltonianSimulation object at 0x0000023AD406C5E0&gt;──────────────────────────────────────────────────────────────────────────────────────────────────────────────────────────────────────────────────────────────────────────────────────────────────────×───────────────────────────────────────────────@──────────@─────────@────────H───&lt;__main__.EigenValueInversion object at 0x0000023AD466D370&gt;───\n",
       "                                │                                                                                                                                                                                                                                                                   │                                               │          │         │            │\n",
       "2: ───H─────────────────────────┼────────────────────────────────────────────────────────────────C&lt;__main__.HamiltonianSimulation object at 0x0000023AD406CCA0&gt;─────────────────────────────────────────────────────────────────────────────────────────────────────────────────────────────────────┼───×────────────────────@─────────@────────H───┼──────────┼─────────@^-0.5───────#2────────────────────────────────────────────────────────────\n",
       "                                │                                                                │                                                                                                                                                                                                  │   │                    │         │            │          │                      │\n",
       "3: ───H─────────────────────────┼────────────────────────────────────────────────────────────────┼────────────────────────────────────────────────────────────────C&lt;__main__.HamiltonianSimulation object at 0x0000023AD406C7F0&gt;────────────────────────────────────────────────────────────────────┼───×───────@────────H───┼─────────@^-0.5───────┼──────────@^-0.25────────────────#3────────────────────────────────────────────────────────────\n",
       "                                │                                                                │                                                                │                                                                                                                                 │           │            │                      │                                 │\n",
       "4: ───H─────────────────────────┼────────────────────────────────────────────────────────────────┼────────────────────────────────────────────────────────────────┼────────────────────────────────────────────────────────────────C&lt;__main__.HamiltonianSimulation object at 0x0000023AD406C8B0&gt;───×───────H───@^-0.5───────@^-0.25────────────────@^(-1/8)──────────────────────────#4────────────────────────────────────────────────────────────\n",
       "                                │                                                                │                                                                │                                                                │\n",
       "5: ───Rx(0.406π)───Rz(0.406π)───#2───────────────────────────────────────────────────────────────#2───────────────────────────────────────────────────────────────#2───────────────────────────────────────────────────────────────#2───────────────────────────────────────────────────────────────────────────────────────────────────────────────────────────────────────────────────────────────────────────────────────────────────────────────</pre>"
      ],
      "text/plain": [
       "0: ───────────────────────────────────────────────────────────────────────────────────────────────────────────────────────────────────────────────────────────────────────────────────────────────────────────────────────────────────────────────────────────────────────────────────────────────────────────────────────────────────────────────────────────────────────────────────#5────────────────────────────────────────────────────────────\n",
       "                                                                                                                                                                                                                                                                                                                                                                                      │\n",
       "1: ───H─────────────────────────C<__main__.HamiltonianSimulation object at 0x0000023AD406C5E0>──────────────────────────────────────────────────────────────────────────────────────────────────────────────────────────────────────────────────────────────────────────────────────────────────────×───────────────────────────────────────────────@──────────@─────────@────────H───<__main__.EigenValueInversion object at 0x0000023AD466D370>───\n",
       "                                │                                                                                                                                                                                                                                                                   │                                               │          │         │            │\n",
       "2: ───H─────────────────────────┼────────────────────────────────────────────────────────────────C<__main__.HamiltonianSimulation object at 0x0000023AD406CCA0>─────────────────────────────────────────────────────────────────────────────────────────────────────────────────────────────────────┼───×────────────────────@─────────@────────H───┼──────────┼─────────@^-0.5───────#2────────────────────────────────────────────────────────────\n",
       "                                │                                                                │                                                                                                                                                                                                  │   │                    │         │            │          │                      │\n",
       "3: ───H─────────────────────────┼────────────────────────────────────────────────────────────────┼────────────────────────────────────────────────────────────────C<__main__.HamiltonianSimulation object at 0x0000023AD406C7F0>────────────────────────────────────────────────────────────────────┼───×───────@────────H───┼─────────@^-0.5───────┼──────────@^-0.25────────────────#3────────────────────────────────────────────────────────────\n",
       "                                │                                                                │                                                                │                                                                                                                                 │           │            │                      │                                 │\n",
       "4: ───H─────────────────────────┼────────────────────────────────────────────────────────────────┼────────────────────────────────────────────────────────────────┼────────────────────────────────────────────────────────────────C<__main__.HamiltonianSimulation object at 0x0000023AD406C8B0>───×───────H───@^-0.5───────@^-0.25────────────────@^(-1/8)──────────────────────────#4────────────────────────────────────────────────────────────\n",
       "                                │                                                                │                                                                │                                                                │\n",
       "5: ───Rx(0.406π)───Rz(0.406π)───#2───────────────────────────────────────────────────────────────#2───────────────────────────────────────────────────────────────#2───────────────────────────────────────────────────────────────#2───────────────────────────────────────────────────────────────────────────────────────────────────────────────────────────────────────────────────────────────────────────────────────────────────────────────"
      ]
     },
     "execution_count": 251,
     "metadata": {},
     "output_type": "execute_result"
    }
   ],
   "source": [
    "circuit"
   ]
  },
  {
   "cell_type": "markdown",
   "metadata": {},
   "source": [
    "<h4>Next we will uncompute the register $B$</h4>\n",
    "\n",
    "At this point, we are done with QPE and controlled rotation of ancilla qubit based on the eigen value states. Since, we do not need the eigenvalue states anymore, we will apply inverse quantum phase estimation, by first apply quantum fourier transform to the register $B$, then by applying inverse controlled rotations to the register, in which we stored our solution.\n",
    "\n",
    "The inverse controlled rotation is applied with $U^{-1}$.\n",
    "\n",
    "So, after the uncomputation our state will be:\n",
    "\n",
    "$$\n",
    "|\\psi\\rangle = \\sum_{j=0}^{N-1}b_{j}|u_{j}\\rangle |0\\rangle_{B} (\\sqrt{1 - \\frac{C^{2}}{\\lambda_{j}}}|0\\rangle_{anc} + \\frac{C}{\\lambda_{j}}|1\\rangle_{anc})\n",
    "$$"
   ]
  },
  {
   "cell_type": "code",
   "execution_count": 252,
   "metadata": {},
   "outputs": [],
   "source": [
    "U_inv = HamiltonianSimulation(_H_= -A, t=t)"
   ]
  },
  {
   "cell_type": "code",
   "execution_count": 253,
   "metadata": {},
   "outputs": [],
   "source": [
    "def qft(n,qubits,circuit):\n",
    "    \n",
    "    #Your code here\n",
    "    for i in range(n):\n",
    "        #Apply Hadamard to the qubit\n",
    "        circuit.append(H(qubits[i]), strategy = InsertStrategy.NEW)\n",
    "        \n",
    "        k=2 #We start with k=2\n",
    "        for j in range(i+1,n):\n",
    "            #Define and apply CR_k gate  \n",
    "            crk = CZPowGate(exponent = 2/2**(k))\n",
    "            circuit.append(crk(qubits[j],qubits[i]))\n",
    "            k=k+1 #Increment k at each step\n",
    " \n",
    "    #Swap the qubits\n",
    "    for i in range(n//2):\n",
    "        circuit.append(SWAP(qubits[i],qubits[n-i-1]), strategy = InsertStrategy.NEW)     "
   ]
  },
  {
   "cell_type": "code",
   "execution_count": 254,
   "metadata": {},
   "outputs": [],
   "source": [
    "def inv_qpe(t, control, target, circuit, CU):\n",
    "    \n",
    "    qft(t, control, circuit)\n",
    "    \n",
    "    qubits = list(target + control)\n",
    "    circuit.append(CU_decomposition(qpe_register_size + b_num, b_num, CU, qubits))    \n",
    "    circuit.append(cirq.H.on_each(control))"
   ]
  },
  {
   "cell_type": "code",
   "execution_count": 255,
   "metadata": {},
   "outputs": [],
   "source": [
    "inv_qpe(qpe_register_size, qpe_register, initial_state, circuit, U)"
   ]
  },
  {
   "cell_type": "code",
   "execution_count": 256,
   "metadata": {},
   "outputs": [
    {
     "data": {
      "text/html": [
       "<pre style=\"overflow: auto; white-space: pre;\">                                                                                                                                                                                                                                                                                                                                                                                                                                                                                                                            ┌───────────────────────────────────────────────────────────────┐\n",
       "0: ───────────────────────────────────────────────────────────────────────────────────────────────────────────────────────────────────────────────────────────────────────────────────────────────────────────────────────────────────────────────────────────────────────────────────────────────────────────────────────────────────────────────────────────────────────────────────#5───────────────────────────────────────────────────────────────────────────────────────────────────────────────────────────────────────────────────────────────────────────────────────────────────────────────────────────────────────────────────────────────────────────────────────────────────────────────────────────────────────────────────────────────────────────────────────────────────────────────\n",
       "                                                                                                                                                                                                                                                                                                                                                                                      │\n",
       "1: ───H─────────────────────────C&lt;__main__.HamiltonianSimulation object at 0x0000023AD406C5E0&gt;──────────────────────────────────────────────────────────────────────────────────────────────────────────────────────────────────────────────────────────────────────────────────────────────────────×───────────────────────────────────────────────@──────────@─────────@────────H───&lt;__main__.EigenValueInversion object at 0x0000023AD466D370&gt;───H───@───────@────────@──────────────────────────────────────────────×─────C&lt;__main__.HamiltonianSimulation object at 0x0000023AD4664C40&gt;────H──────────────────────────────────────────────────────────────────────────────────────────────────────────────────────────────────────────────────────────────────────────────────────────────────────\n",
       "                                │                                                                                                                                                                                                                                                                   │                                               │          │         │            │                                                                 │       │        │                                              │     │\n",
       "2: ───H─────────────────────────┼────────────────────────────────────────────────────────────────C&lt;__main__.HamiltonianSimulation object at 0x0000023AD406CCA0&gt;─────────────────────────────────────────────────────────────────────────────────────────────────────────────────────────────────────┼───×────────────────────@─────────@────────H───┼──────────┼─────────@^-0.5───────#2────────────────────────────────────────────────────────────────@^0.5───┼────────┼─────────H───@───────@────────────────────────┼────×┼─────────────────────────────────────────────────────────────────C&lt;__main__.HamiltonianSimulation object at 0x0000023AD4664C70&gt;───H─────────────────────────────────────────────────────────────────────────────────────────────────────────────────────────────────────\n",
       "                                │                                                                │                                                                                                                                                                                                  │   │                    │         │            │          │                      │                                                                         │        │             │       │                        │    ││                                                                 │\n",
       "3: ───H─────────────────────────┼────────────────────────────────────────────────────────────────┼────────────────────────────────────────────────────────────────C&lt;__main__.HamiltonianSimulation object at 0x0000023AD406C7F0&gt;────────────────────────────────────────────────────────────────────┼───×───────@────────H───┼─────────@^-0.5───────┼──────────@^-0.25────────────────#3────────────────────────────────────────────────────────────────────────@^0.25───┼─────────────@^0.5───┼────────H───@───────────┼────×┼─────────────────────────────────────────────────────────────────┼────────────────────────────────────────────────────────────────C&lt;__main__.HamiltonianSimulation object at 0x0000023AD4664F70&gt;───H────────────────────────────────────────────────────────────────────\n",
       "                                │                                                                │                                                                │                                                                                                                                 │           │            │                      │                                 │                                                                                  │                     │            │           │     │                                                                 │                                                                │\n",
       "4: ───H─────────────────────────┼────────────────────────────────────────────────────────────────┼────────────────────────────────────────────────────────────────┼────────────────────────────────────────────────────────────────C&lt;__main__.HamiltonianSimulation object at 0x0000023AD406C8B0&gt;───×───────H───@^-0.5───────@^-0.25────────────────@^(-1/8)──────────────────────────#4─────────────────────────────────────────────────────────────────────────────────@^(1/8)───────────────@^0.25───────@^0.5───H───×─────┼─────────────────────────────────────────────────────────────────┼────────────────────────────────────────────────────────────────┼────────────────────────────────────────────────────────────────C&lt;__main__.HamiltonianSimulation object at 0x0000023AD4664430&gt;───H───\n",
       "                                │                                                                │                                                                │                                                                │                                                                                                                                                                                                                                                                                          │                                                                 │                                                                │                                                                │\n",
       "5: ───Rx(0.406π)───Rz(0.406π)───#2───────────────────────────────────────────────────────────────#2───────────────────────────────────────────────────────────────#2───────────────────────────────────────────────────────────────#2─────────────────────────────────────────────────────────────────────────────────────────────────────────────────────────────────────────────────────────────────────────────────────────────────────────────────────────────────────────────────────────────────────────────────────────#2────────────────────────────────────────────────────────────────#2───────────────────────────────────────────────────────────────#2───────────────────────────────────────────────────────────────#2───────────────────────────────────────────────────────────────────\n",
       "                                                                                                                                                                                                                                                                                                                                                                                                                                                                                                                            └───────────────────────────────────────────────────────────────┘</pre>"
      ],
      "text/plain": [
       "                                                                                                                                                                                                                                                                                                                                                                                                                                                                                                                            ┌───────────────────────────────────────────────────────────────┐\n",
       "0: ───────────────────────────────────────────────────────────────────────────────────────────────────────────────────────────────────────────────────────────────────────────────────────────────────────────────────────────────────────────────────────────────────────────────────────────────────────────────────────────────────────────────────────────────────────────────────#5───────────────────────────────────────────────────────────────────────────────────────────────────────────────────────────────────────────────────────────────────────────────────────────────────────────────────────────────────────────────────────────────────────────────────────────────────────────────────────────────────────────────────────────────────────────────────────────────────────────────\n",
       "                                                                                                                                                                                                                                                                                                                                                                                      │\n",
       "1: ───H─────────────────────────C<__main__.HamiltonianSimulation object at 0x0000023AD406C5E0>──────────────────────────────────────────────────────────────────────────────────────────────────────────────────────────────────────────────────────────────────────────────────────────────────────×───────────────────────────────────────────────@──────────@─────────@────────H───<__main__.EigenValueInversion object at 0x0000023AD466D370>───H───@───────@────────@──────────────────────────────────────────────×─────C<__main__.HamiltonianSimulation object at 0x0000023AD4664C40>────H──────────────────────────────────────────────────────────────────────────────────────────────────────────────────────────────────────────────────────────────────────────────────────────────────────\n",
       "                                │                                                                                                                                                                                                                                                                   │                                               │          │         │            │                                                                 │       │        │                                              │     │\n",
       "2: ───H─────────────────────────┼────────────────────────────────────────────────────────────────C<__main__.HamiltonianSimulation object at 0x0000023AD406CCA0>─────────────────────────────────────────────────────────────────────────────────────────────────────────────────────────────────────┼───×────────────────────@─────────@────────H───┼──────────┼─────────@^-0.5───────#2────────────────────────────────────────────────────────────────@^0.5───┼────────┼─────────H───@───────@────────────────────────┼────×┼─────────────────────────────────────────────────────────────────C<__main__.HamiltonianSimulation object at 0x0000023AD4664C70>───H─────────────────────────────────────────────────────────────────────────────────────────────────────────────────────────────────────\n",
       "                                │                                                                │                                                                                                                                                                                                  │   │                    │         │            │          │                      │                                                                         │        │             │       │                        │    ││                                                                 │\n",
       "3: ───H─────────────────────────┼────────────────────────────────────────────────────────────────┼────────────────────────────────────────────────────────────────C<__main__.HamiltonianSimulation object at 0x0000023AD406C7F0>────────────────────────────────────────────────────────────────────┼───×───────@────────H───┼─────────@^-0.5───────┼──────────@^-0.25────────────────#3────────────────────────────────────────────────────────────────────────@^0.25───┼─────────────@^0.5───┼────────H───@───────────┼────×┼─────────────────────────────────────────────────────────────────┼────────────────────────────────────────────────────────────────C<__main__.HamiltonianSimulation object at 0x0000023AD4664F70>───H────────────────────────────────────────────────────────────────────\n",
       "                                │                                                                │                                                                │                                                                                                                                 │           │            │                      │                                 │                                                                                  │                     │            │           │     │                                                                 │                                                                │\n",
       "4: ───H─────────────────────────┼────────────────────────────────────────────────────────────────┼────────────────────────────────────────────────────────────────┼────────────────────────────────────────────────────────────────C<__main__.HamiltonianSimulation object at 0x0000023AD406C8B0>───×───────H───@^-0.5───────@^-0.25────────────────@^(-1/8)──────────────────────────#4─────────────────────────────────────────────────────────────────────────────────@^(1/8)───────────────@^0.25───────@^0.5───H───×─────┼─────────────────────────────────────────────────────────────────┼────────────────────────────────────────────────────────────────┼────────────────────────────────────────────────────────────────C<__main__.HamiltonianSimulation object at 0x0000023AD4664430>───H───\n",
       "                                │                                                                │                                                                │                                                                │                                                                                                                                                                                                                                                                                          │                                                                 │                                                                │                                                                │\n",
       "5: ───Rx(0.406π)───Rz(0.406π)───#2───────────────────────────────────────────────────────────────#2───────────────────────────────────────────────────────────────#2───────────────────────────────────────────────────────────────#2─────────────────────────────────────────────────────────────────────────────────────────────────────────────────────────────────────────────────────────────────────────────────────────────────────────────────────────────────────────────────────────────────────────────────────────#2────────────────────────────────────────────────────────────────#2───────────────────────────────────────────────────────────────#2───────────────────────────────────────────────────────────────#2───────────────────────────────────────────────────────────────────\n",
       "                                                                                                                                                                                                                                                                                                                                                                                                                                                                                                                            └───────────────────────────────────────────────────────────────┘"
      ]
     },
     "execution_count": 256,
     "metadata": {},
     "output_type": "execute_result"
    }
   ],
   "source": [
    "circuit"
   ]
  },
  {
   "cell_type": "markdown",
   "metadata": {},
   "source": [
    "<h4>The last step: Measure the Ancilla Qubit</h4>\n",
    "\n",
    "Now that we have applied inverse QPE to uncompute the register $B$, it is time to measure the ancilla qubit. By uncomputing the register $B$, we can now ignore this register and focus on the combined state of the ancillar register and our input register.\n",
    "\n",
    "If the ancilla qubit is measured to be $|0\\rangle$, the result will be discarded and the computation will be done all over again until the measurement is $|1\\rangle$.\n",
    "\n",
    "So, after ignoring the register $B$ and ancilla qubit measuring $|1\\rangle$, or state can simply be written as:\n",
    "\n",
    "$$\n",
    "|\\psi\\rangle = C\\sum_{j=0}^{N-1} \\frac{b_{j}}{\\lambda_{j}} |u_{j}\\rangle\n",
    "$$\n",
    "\n",
    "The state above is the solution state $|x\\rangle$ upto some propotionality factor."
   ]
  },
  {
   "cell_type": "code",
   "execution_count": 257,
   "metadata": {},
   "outputs": [],
   "source": [
    "circuit.append(cirq.measure(ancilla,key='a'))\n",
    "circuit.append(cirq.measure(*initial_state,key='m'))"
   ]
  },
  {
   "cell_type": "markdown",
   "metadata": {},
   "source": [
    "<h3>References</h3>\n",
    "\n",
    "<ol>\n",
    "    <li>Step-by-Step HHL Algorithm Walkthrough to Enhance the Understanding of Critical Quantum Computing Concepts - Hector Jose Morrell Jr and Hiu Yung Wong [<a href=\"https://arxiv.org/pdf/2108.09004v2.pdf\">Paper</a>]</li>\n",
    "    <li>Stackexchange - Eigenvalue decomposition [<a href=\"https://math.stackexchange.com/questions/2473073/finding-an-eigenvalue-decomposition-of-a-2m-times-2m-hermitian-matrix\">Web</a>]</li>\n",
    "    <li>Solving Linear Systems of Equations using HHL - Qiskit tutorial [<a href=\"https://qiskit.org/textbook/ch-applications/hhl_tutorial.html\">Web</a>]</li>\n",
    "    <li>Quantum Machine Learning with Python using Cirq and IBM Qiskit - Santanu Pattanayak [<a href=\"https://drive.google.com/file/d/1tRP5ICZ73nxrmgxv9eqt4SjXsiVNS0Ap/view?usp=sharing\">Book</a>]</li>\n",
    "    <li>APress Quantum Machine Learning Python GitHub Repo [<a href=\"https://github.com/Apress/quantum-machine-learning-python/tree/main/Chapter_5/listing5_1\">GitHub Repo</a>]</li>\n",
    "</ol>"
   ]
  },
  {
   "cell_type": "code",
   "execution_count": null,
   "metadata": {},
   "outputs": [],
   "source": []
  }
 ],
 "metadata": {
  "kernelspec": {
   "display_name": "Python 3",
   "language": "python",
   "name": "python3"
  },
  "language_info": {
   "codemirror_mode": {
    "name": "ipython",
    "version": 3
   },
   "file_extension": ".py",
   "mimetype": "text/x-python",
   "name": "python",
   "nbconvert_exporter": "python",
   "pygments_lexer": "ipython3",
   "version": "3.8.8"
  }
 },
 "nbformat": 4,
 "nbformat_minor": 2
}
